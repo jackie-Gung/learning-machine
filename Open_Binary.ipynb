{
  "cells": [
    {
      "cell_type": "code",
      "execution_count": 17,
      "metadata": {
        "id": "5mfwrTwPtd36"
      },
      "outputs": [
        {
          "name": "stdout",
          "output_type": "stream",
          "text": [
            "Loading monitored datafile...\n",
            "Total monitored samples: 19000\n"
          ]
        }
      ],
      "source": [
        "import pickle\n",
        "\n",
        "URL_PER_SITE = 10\n",
        "TOTAL_URLS_MONITORED = 950\n",
        "TOTAL_URLS_UNMONITORED = 3000\n",
        "\n",
        "# Load monitored data\n",
        "print(\"Loading monitored datafile...\")\n",
        "with open(\"./mon_standard.pkl\", 'rb') as fi: # Path to mon_standard.pkl \n",
        "    monitored_data = pickle.load(fi)\n",
        "\n",
        "X1_mon = [] # Array to store instances (timestamps)\n",
        "X2_mon = [] # Array to store instances (direction*size)\n",
        "y_mon = [] # Array to store the site of each instance\n",
        "\n",
        "# x array (direction*timestamp), y array (site label)\n",
        "for i in range(TOTAL_URLS_MONITORED):\n",
        "    for sample in monitored_data[i]:\n",
        "        size_seq = []\n",
        "        time_seq = []\n",
        "        for c in sample:\n",
        "            dr = 1 if c > 0 else -1\n",
        "            time_seq.append(abs(c))\n",
        "            size_seq.append(dr * 512)\n",
        "        X1_mon.append(time_seq)\n",
        "        X2_mon.append(size_seq)\n",
        "        y_mon.append(1)\n",
        "mon_size = len(y_mon)\n",
        "\n",
        "print(f'Total monitored samples: {mon_size}') # Output: 19000"
      ]
    },
    {
      "cell_type": "code",
      "execution_count": 18,
      "metadata": {},
      "outputs": [
        {
          "name": "stdout",
          "output_type": "stream",
          "text": [
            "Loading unmonitored datafile...\n",
            "Total unmonitored samples: 3000\n"
          ]
        }
      ],
      "source": [
        "# Load unmonitored data\n",
        "print(\"Loading unmonitored datafile...\")\n",
        "with open('./unmon_standard10_3000.pkl', 'rb') as fi:  # Path to unmon_standard10.pkl in Colab\n",
        "    unmonitored_data = pickle.load(fi)\n",
        "\n",
        "X1_unmon = [] # Array to store instances (timestamps)\n",
        "X2_unmon = [] # Array to store instances (direction*size)\n",
        "y_unmon = [] # Array to store the site of each instance\n",
        "\n",
        "for i in range(TOTAL_URLS_UNMONITORED):\n",
        "    size_seq = []\n",
        "    time_seq = []\n",
        "    for c in unmonitored_data[i]:\n",
        "        dr = 1 if c > 0 else -1\n",
        "        time_seq.append(abs(c))\n",
        "        size_seq.append(dr * 512) # In the pickle file, there is no size information, so the conversion code is set to multiply by 512 uniformly.\n",
        "    X1_unmon.append(time_seq)\n",
        "    X2_unmon.append(size_seq)\n",
        "    y_unmon.append(-1)\n",
        "unmon_size = len(y_unmon)\n",
        "\n",
        "print(f'Total unmonitored samples: {unmon_size}') # Output: 3000"
      ]
    },
    {
      "cell_type": "code",
      "execution_count": 20,
      "metadata": {},
      "outputs": [
        {
          "name": "stdout",
          "output_type": "stream",
          "text": [
            "monitored dataFrame size: (19000, 3)\n",
            "unmonitored dataFrame size: (3000, 3)\n"
          ]
        }
      ],
      "source": [
        "import pandas as pd\n",
        "\n",
        "# Create the DataFrame from monitored data\n",
        "df_mon = pd.DataFrame({\n",
        "    'time_seq': X1_mon,  # Timestamps sequence\n",
        "    'size_seq': X2_mon,  # Size sequence\n",
        "    'label': y_mon       # Labels (site information)\n",
        "})\n",
        "\n",
        "df_unmon = pd.DataFrame({\n",
        "    'time_seq': X1_unmon,  # Timestamps sequence\n",
        "    'size_seq': X2_unmon,  # Size sequence\n",
        "    'label': y_unmon       # Labels (site information)\n",
        "})\n",
        "\n",
        "# Check if the dataframe is created properly\n",
        "print(f\"monitored dataFrame size: {df_mon.shape}\")\n",
        "print(f\"unmonitored dataFrame size: {df_unmon.shape}\")"
      ]
    },
    {
      "cell_type": "code",
      "execution_count": 21,
      "metadata": {},
      "outputs": [
        {
          "name": "stdout",
          "output_type": "stream",
          "text": [
            "Combined DataFrame size: (22000, 3)\n"
          ]
        }
      ],
      "source": [
        "# Combine the two DataFrames\n",
        "df_combined = pd.concat([df_mon, df_unmon], ignore_index=True)\n",
        "\n",
        "# Check if the DataFrame is created properly\n",
        "print(f\"Combined DataFrame size: {df_combined.shape}\")"
      ]
    },
    {
      "cell_type": "code",
      "execution_count": 22,
      "metadata": {},
      "outputs": [],
      "source": [
        "import numpy as np\n",
        "from sklearn.preprocessing import StandardScaler\n",
        "from sklearn.model_selection import train_test_split\n",
        "from sklearn.ensemble import RandomForestClassifier\n",
        "from sklearn.metrics import classification_report\n",
        "\n",
        "# Extract Continuous Features\n",
        "df_combined['cumulative_size'] = df_combined['size_seq'].apply(np.cumsum)  # Cumulative packet size\n",
        "df_combined['burst_std'] = df_combined['size_seq'].apply(lambda x: np.std(np.diff(x, prepend=0)))  # Burst standard deviation\n",
        "df_combined['mean_packet_size'] = df_combined['size_seq'].apply(np.mean)  # Mean packet size\n",
        "df_combined['mean_timestamp'] = df_combined['time_seq'].apply(np.mean)  # Mean timestamp\n",
        "\n",
        "# Extract Categorical Features\n",
        "df_combined['num_incoming'] = df_combined['size_seq'].apply(lambda x: sum(1 for i in x if i < 0))  # Number of incoming packets\n",
        "df_combined['num_outgoing'] = df_combined['size_seq'].apply(lambda x: sum(1 for i in x if i > 0))  # Number of outgoing packets\n",
        "df_combined['total_packets'] = df_combined['num_incoming'] + df_combined['num_outgoing'] # Number of total packets\n",
        "df_combined['fraction_incoming'] = df_combined['num_incoming'] / df_combined['total_packets']  # Fraction of incoming packets\n",
        "df_combined['fraction_outgoing'] = df_combined['num_outgoing'] / df_combined['total_packets']  # Fraction of outgoing packets"
      ]
    },
    {
      "cell_type": "code",
      "execution_count": 23,
      "metadata": {},
      "outputs": [],
      "source": [
        "# Add Features\n",
        "df_combined['packetsize_std'] = df_combined['size_seq'].apply(lambda x: np.std(x))\n",
        "df_combined['timestamp_std'] = df_combined['time_seq'].apply(lambda x: np.std(x))\n",
        "df_combined['mean_outgoing_packets'] = df_combined['size_seq'].apply(lambda x: np.mean([i for i in x if i > 0]) if any(i > 0 for i in x) else 0)\n",
        "df_combined['packet_concentration_ordering'] = df_combined['size_seq'].apply(lambda x: np.mean(np.diff(x)))"
      ]
    },
    {
      "cell_type": "code",
      "execution_count": 24,
      "metadata": {},
      "outputs": [],
      "source": [
        "# Fill any NaN values\n",
        "df_combined.fillna(0, inplace=True)"
      ]
    },
    {
      "cell_type": "code",
      "execution_count": 25,
      "metadata": {},
      "outputs": [],
      "source": [
        "continuous_features = [\n",
        "    'cumulative_size', \n",
        "    'burst_std', \n",
        "    'mean_packet_size', \n",
        "    'mean_timestamp',\n",
        "    'packetsize_std', \n",
        "    'timestamp_std'\n",
        "    ]\n",
        "categorical_features = [\n",
        "    'fraction_incoming', \n",
        "    'fraction_outgoing', \n",
        "    'total_packets', \n",
        "    'num_incoming', \n",
        "    'num_outgoing',\n",
        "    'mean_outgoing_packets', \n",
        "    'packet_concentration_ordering'\n",
        "    ]"
      ]
    },
    {
      "cell_type": "code",
      "execution_count": 26,
      "metadata": {},
      "outputs": [],
      "source": [
        "# Flatten lists\n",
        "X_continuous = np.array(df_combined[continuous_features].map(lambda x: np.mean(x) if isinstance(x, np.ndarray) else x))\n",
        "X_categorical = df_combined[categorical_features].values\n",
        "X = np.hstack([X_continuous, X_categorical])  # Combine continuous and categorical features\n",
        "y = df_combined['label'].values  # Labels"
      ]
    },
    {
      "cell_type": "code",
      "execution_count": 27,
      "metadata": {},
      "outputs": [],
      "source": [
        "# Train-Test Split\n",
        "X_train, X_test, y_train, y_test = train_test_split(X, y, test_size=0.3, random_state=42)"
      ]
    },
    {
      "cell_type": "code",
      "execution_count": 28,
      "metadata": {},
      "outputs": [],
      "source": [
        "# Standardize Continuous Features\n",
        "scaler = StandardScaler()\n",
        "X_train[:, :len(continuous_features)] = scaler.fit_transform(X_train[:, :len(continuous_features)])\n",
        "X_test[:, :len(continuous_features)] = scaler.transform(X_test[:, :len(continuous_features)])"
      ]
    },
    {
      "cell_type": "code",
      "execution_count": 29,
      "metadata": {},
      "outputs": [],
      "source": [
        "# Train the Model\n",
        "clf = RandomForestClassifier( # 기본 설정\n",
        "    n_estimators=100,\n",
        "    max_depth=10,\n",
        "    random_state=42,\n",
        "    criterion='gini'\n",
        ")\n",
        "clf.fit(X_train, y_train)\n",
        "\n",
        "y_pred = clf.predict(X_test)"
      ]
    },
    {
      "cell_type": "code",
      "execution_count": 30,
      "metadata": {},
      "outputs": [
        {
          "name": "stdout",
          "output_type": "stream",
          "text": [
            "              precision    recall  f1-score   support\n",
            "\n",
            "          -1       0.85      0.09      0.17       882\n",
            "           1       0.88      1.00      0.93      5718\n",
            "\n",
            "    accuracy                           0.88      6600\n",
            "   macro avg       0.86      0.55      0.55      6600\n",
            "weighted avg       0.87      0.88      0.83      6600\n",
            "\n",
            "accuracy: 87.67%\n"
          ]
        }
      ],
      "source": [
        "from sklearn.metrics import accuracy_score\n",
        "\n",
        "# Evaluate the Model\n",
        "report = classification_report(y_test, y_pred)\n",
        "print(report)\n",
        "\n",
        "accuracy = accuracy_score(y_test, y_pred)\n",
        "print(f\"accuracy: {accuracy * 100:.2f}%\")"
      ]
    },
    {
      "cell_type": "code",
      "execution_count": 31,
      "metadata": {},
      "outputs": [
        {
          "name": "stdout",
          "output_type": "stream",
          "text": [
            "Fitting 5 folds for each of 36 candidates, totalling 180 fits\n",
            "[CV] END criterion=gini, max_depth=10, min_samples_leaf=1, min_samples_split=2, n_estimators=100, random_state=42; total time=   2.4s\n",
            "[CV] END criterion=gini, max_depth=10, min_samples_leaf=1, min_samples_split=2, n_estimators=100, random_state=123; total time=   2.4s\n",
            "[CV] END criterion=gini, max_depth=10, min_samples_leaf=1, min_samples_split=2, n_estimators=100, random_state=42; total time=   2.4s\n",
            "[CV] END criterion=gini, max_depth=10, min_samples_leaf=1, min_samples_split=2, n_estimators=100, random_state=42; total time=   2.4s\n",
            "[CV] END criterion=gini, max_depth=10, min_samples_leaf=1, min_samples_split=2, n_estimators=100, random_state=42; total time=   2.4s\n",
            "[CV] END criterion=gini, max_depth=10, min_samples_leaf=1, min_samples_split=2, n_estimators=100, random_state=123; total time=   2.4s\n",
            "[CV] END criterion=gini, max_depth=10, min_samples_leaf=1, min_samples_split=2, n_estimators=100, random_state=42; total time=   2.5s\n",
            "[CV] END criterion=gini, max_depth=10, min_samples_leaf=1, min_samples_split=2, n_estimators=100, random_state=123; total time=   2.5s\n",
            "[CV] END criterion=gini, max_depth=10, min_samples_leaf=1, min_samples_split=2, n_estimators=100, random_state=123; total time=   2.3s\n",
            "[CV] END criterion=gini, max_depth=10, min_samples_leaf=1, min_samples_split=2, n_estimators=100, random_state=123; total time=   2.3s\n",
            "[CV] END criterion=gini, max_depth=10, min_samples_leaf=1, min_samples_split=2, n_estimators=200, random_state=42; total time=   4.6s\n",
            "[CV] END criterion=gini, max_depth=10, min_samples_leaf=1, min_samples_split=2, n_estimators=200, random_state=42; total time=   4.6s\n",
            "[CV] END criterion=gini, max_depth=10, min_samples_leaf=1, min_samples_split=2, n_estimators=200, random_state=42; total time=   4.7s\n",
            "[CV] END criterion=gini, max_depth=10, min_samples_leaf=1, min_samples_split=2, n_estimators=200, random_state=42; total time=   4.8s\n",
            "[CV] END criterion=gini, max_depth=10, min_samples_leaf=1, min_samples_split=2, n_estimators=200, random_state=123; total time=   4.6s\n",
            "[CV] END criterion=gini, max_depth=10, min_samples_leaf=1, min_samples_split=2, n_estimators=200, random_state=42; total time=   4.7s\n",
            "[CV] END criterion=gini, max_depth=10, min_samples_leaf=1, min_samples_split=2, n_estimators=200, random_state=123; total time=   4.7s\n",
            "[CV] END criterion=gini, max_depth=10, min_samples_leaf=1, min_samples_split=2, n_estimators=200, random_state=123; total time=   4.6s\n",
            "[CV] END criterion=gini, max_depth=10, min_samples_leaf=1, min_samples_split=2, n_estimators=200, random_state=123; total time=   4.6s\n",
            "[CV] END criterion=gini, max_depth=10, min_samples_leaf=1, min_samples_split=2, n_estimators=200, random_state=123; total time=   4.6s\n",
            "[CV] END criterion=gini, max_depth=10, min_samples_leaf=1, min_samples_split=2, n_estimators=300, random_state=42; total time=   7.0s\n",
            "[CV] END criterion=gini, max_depth=10, min_samples_leaf=1, min_samples_split=2, n_estimators=300, random_state=42; total time=   7.0s\n",
            "[CV] END criterion=gini, max_depth=10, min_samples_leaf=1, min_samples_split=2, n_estimators=300, random_state=42; total time=   7.1s\n",
            "[CV] END criterion=gini, max_depth=10, min_samples_leaf=1, min_samples_split=2, n_estimators=300, random_state=42; total time=   7.0s\n",
            "[CV] END criterion=gini, max_depth=10, min_samples_leaf=1, min_samples_split=2, n_estimators=300, random_state=123; total time=   6.8s\n",
            "[CV] END criterion=gini, max_depth=10, min_samples_leaf=1, min_samples_split=2, n_estimators=300, random_state=42; total time=   7.0s\n",
            "[CV] END criterion=gini, max_depth=20, min_samples_leaf=1, min_samples_split=2, n_estimators=100, random_state=42; total time=   3.2s\n",
            "[CV] END criterion=gini, max_depth=20, min_samples_leaf=1, min_samples_split=2, n_estimators=100, random_state=42; total time=   3.2s\n",
            "[CV] END criterion=gini, max_depth=10, min_samples_leaf=1, min_samples_split=2, n_estimators=300, random_state=123; total time=   6.8s\n",
            "[CV] END criterion=gini, max_depth=10, min_samples_leaf=1, min_samples_split=2, n_estimators=300, random_state=123; total time=   6.9s\n",
            "[CV] END criterion=gini, max_depth=20, min_samples_leaf=1, min_samples_split=2, n_estimators=100, random_state=42; total time=   3.3s\n",
            "[CV] END criterion=gini, max_depth=20, min_samples_leaf=1, min_samples_split=2, n_estimators=100, random_state=42; total time=   3.2s\n",
            "[CV] END criterion=gini, max_depth=20, min_samples_leaf=1, min_samples_split=2, n_estimators=100, random_state=42; total time=   3.1s\n",
            "[CV] END criterion=gini, max_depth=20, min_samples_leaf=1, min_samples_split=2, n_estimators=100, random_state=123; total time=   3.2s\n",
            "[CV] END criterion=gini, max_depth=10, min_samples_leaf=1, min_samples_split=2, n_estimators=300, random_state=123; total time=   6.9s\n",
            "[CV] END criterion=gini, max_depth=10, min_samples_leaf=1, min_samples_split=2, n_estimators=300, random_state=123; total time=   7.0s\n",
            "[CV] END criterion=gini, max_depth=20, min_samples_leaf=1, min_samples_split=2, n_estimators=100, random_state=123; total time=   3.1s\n",
            "[CV] END criterion=gini, max_depth=20, min_samples_leaf=1, min_samples_split=2, n_estimators=100, random_state=123; total time=   3.1s\n",
            "[CV] END criterion=gini, max_depth=20, min_samples_leaf=1, min_samples_split=2, n_estimators=100, random_state=123; total time=   3.1s\n",
            "[CV] END criterion=gini, max_depth=20, min_samples_leaf=1, min_samples_split=2, n_estimators=100, random_state=123; total time=   3.3s\n",
            "[CV] END criterion=gini, max_depth=20, min_samples_leaf=1, min_samples_split=2, n_estimators=200, random_state=42; total time=   6.4s\n",
            "[CV] END criterion=gini, max_depth=20, min_samples_leaf=1, min_samples_split=2, n_estimators=200, random_state=42; total time=   6.2s\n",
            "[CV] END criterion=gini, max_depth=20, min_samples_leaf=1, min_samples_split=2, n_estimators=200, random_state=42; total time=   6.3s\n",
            "[CV] END criterion=gini, max_depth=20, min_samples_leaf=1, min_samples_split=2, n_estimators=200, random_state=42; total time=   6.2s\n",
            "[CV] END criterion=gini, max_depth=20, min_samples_leaf=1, min_samples_split=2, n_estimators=200, random_state=123; total time=   6.2s\n",
            "[CV] END criterion=gini, max_depth=20, min_samples_leaf=1, min_samples_split=2, n_estimators=200, random_state=42; total time=   6.3s\n",
            "[CV] END criterion=gini, max_depth=20, min_samples_leaf=1, min_samples_split=2, n_estimators=200, random_state=123; total time=   6.3s\n",
            "[CV] END criterion=gini, max_depth=20, min_samples_leaf=1, min_samples_split=2, n_estimators=200, random_state=123; total time=   6.2s\n",
            "[CV] END criterion=gini, max_depth=20, min_samples_leaf=1, min_samples_split=2, n_estimators=200, random_state=123; total time=   6.3s\n",
            "[CV] END criterion=gini, max_depth=20, min_samples_leaf=1, min_samples_split=2, n_estimators=200, random_state=123; total time=   6.4s\n",
            "[CV] END criterion=gini, max_depth=20, min_samples_leaf=1, min_samples_split=2, n_estimators=300, random_state=42; total time=   9.3s\n",
            "[CV] END criterion=gini, max_depth=20, min_samples_leaf=1, min_samples_split=2, n_estimators=300, random_state=42; total time=   9.5s\n",
            "[CV] END criterion=gini, max_depth=20, min_samples_leaf=1, min_samples_split=2, n_estimators=300, random_state=42; total time=   9.4s\n",
            "[CV] END criterion=gini, max_depth=20, min_samples_leaf=1, min_samples_split=2, n_estimators=300, random_state=42; total time=   9.4s\n",
            "[CV] END criterion=gini, max_depth=20, min_samples_leaf=1, min_samples_split=2, n_estimators=300, random_state=42; total time=   9.3s\n",
            "[CV] END criterion=gini, max_depth=20, min_samples_leaf=1, min_samples_split=2, n_estimators=300, random_state=123; total time=   9.4s\n",
            "[CV] END criterion=gini, max_depth=30, min_samples_leaf=1, min_samples_split=2, n_estimators=100, random_state=42; total time=   3.2s\n",
            "[CV] END criterion=gini, max_depth=30, min_samples_leaf=1, min_samples_split=2, n_estimators=100, random_state=42; total time=   3.1s\n",
            "[CV] END criterion=gini, max_depth=30, min_samples_leaf=1, min_samples_split=2, n_estimators=100, random_state=42; total time=   3.2s\n",
            "[CV] END criterion=gini, max_depth=30, min_samples_leaf=1, min_samples_split=2, n_estimators=100, random_state=42; total time=   3.1s\n",
            "[CV] END criterion=gini, max_depth=20, min_samples_leaf=1, min_samples_split=2, n_estimators=300, random_state=123; total time=   9.3s\n",
            "[CV] END criterion=gini, max_depth=20, min_samples_leaf=1, min_samples_split=2, n_estimators=300, random_state=123; total time=   9.6s\n",
            "[CV] END criterion=gini, max_depth=30, min_samples_leaf=1, min_samples_split=2, n_estimators=100, random_state=42; total time=   3.3s\n",
            "[CV] END criterion=gini, max_depth=30, min_samples_leaf=1, min_samples_split=2, n_estimators=100, random_state=123; total time=   3.2s\n",
            "[CV] END criterion=gini, max_depth=30, min_samples_leaf=1, min_samples_split=2, n_estimators=100, random_state=123; total time=   3.1s\n",
            "[CV] END criterion=gini, max_depth=30, min_samples_leaf=1, min_samples_split=2, n_estimators=100, random_state=123; total time=   3.3s\n",
            "[CV] END criterion=gini, max_depth=30, min_samples_leaf=1, min_samples_split=2, n_estimators=100, random_state=123; total time=   3.2s\n",
            "[CV] END criterion=gini, max_depth=30, min_samples_leaf=1, min_samples_split=2, n_estimators=100, random_state=123; total time=   3.2s\n",
            "[CV] END criterion=gini, max_depth=20, min_samples_leaf=1, min_samples_split=2, n_estimators=300, random_state=123; total time=   9.8s\n",
            "[CV] END criterion=gini, max_depth=20, min_samples_leaf=1, min_samples_split=2, n_estimators=300, random_state=123; total time=   9.8s\n",
            "[CV] END criterion=gini, max_depth=30, min_samples_leaf=1, min_samples_split=2, n_estimators=200, random_state=42; total time=   6.7s\n",
            "[CV] END criterion=gini, max_depth=30, min_samples_leaf=1, min_samples_split=2, n_estimators=200, random_state=42; total time=   6.6s\n",
            "[CV] END criterion=gini, max_depth=30, min_samples_leaf=1, min_samples_split=2, n_estimators=200, random_state=42; total time=   6.7s\n",
            "[CV] END criterion=gini, max_depth=30, min_samples_leaf=1, min_samples_split=2, n_estimators=200, random_state=42; total time=   6.7s\n",
            "[CV] END criterion=gini, max_depth=30, min_samples_leaf=1, min_samples_split=2, n_estimators=200, random_state=42; total time=   6.7s\n",
            "[CV] END criterion=gini, max_depth=30, min_samples_leaf=1, min_samples_split=2, n_estimators=200, random_state=123; total time=   6.6s\n",
            "[CV] END criterion=gini, max_depth=30, min_samples_leaf=1, min_samples_split=2, n_estimators=200, random_state=123; total time=   6.8s\n",
            "[CV] END criterion=gini, max_depth=30, min_samples_leaf=1, min_samples_split=2, n_estimators=200, random_state=123; total time=   6.7s\n",
            "[CV] END criterion=gini, max_depth=30, min_samples_leaf=1, min_samples_split=2, n_estimators=200, random_state=123; total time=   6.4s\n",
            "[CV] END criterion=gini, max_depth=30, min_samples_leaf=1, min_samples_split=2, n_estimators=200, random_state=123; total time=   6.4s\n",
            "[CV] END criterion=gini, max_depth=30, min_samples_leaf=1, min_samples_split=2, n_estimators=300, random_state=42; total time=   9.6s\n",
            "[CV] END criterion=gini, max_depth=30, min_samples_leaf=1, min_samples_split=2, n_estimators=300, random_state=42; total time=   9.7s\n",
            "[CV] END criterion=gini, max_depth=30, min_samples_leaf=1, min_samples_split=2, n_estimators=300, random_state=42; total time=   9.9s\n",
            "[CV] END criterion=gini, max_depth=30, min_samples_leaf=1, min_samples_split=2, n_estimators=300, random_state=123; total time=   9.6s\n",
            "[CV] END criterion=gini, max_depth=30, min_samples_leaf=1, min_samples_split=2, n_estimators=300, random_state=42; total time=   9.7s\n",
            "[CV] END criterion=gini, max_depth=30, min_samples_leaf=1, min_samples_split=2, n_estimators=300, random_state=42; total time=   9.8s\n",
            "[CV] END criterion=entropy, max_depth=10, min_samples_leaf=1, min_samples_split=2, n_estimators=100, random_state=42; total time=   2.7s\n",
            "[CV] END criterion=entropy, max_depth=10, min_samples_leaf=1, min_samples_split=2, n_estimators=100, random_state=42; total time=   2.7s\n",
            "[CV] END criterion=entropy, max_depth=10, min_samples_leaf=1, min_samples_split=2, n_estimators=100, random_state=42; total time=   2.8s\n",
            "[CV] END criterion=entropy, max_depth=10, min_samples_leaf=1, min_samples_split=2, n_estimators=100, random_state=42; total time=   2.7s\n",
            "[CV] END criterion=gini, max_depth=30, min_samples_leaf=1, min_samples_split=2, n_estimators=300, random_state=123; total time=   9.5s\n",
            "[CV] END criterion=gini, max_depth=30, min_samples_leaf=1, min_samples_split=2, n_estimators=300, random_state=123; total time=   9.6s\n",
            "[CV] END criterion=entropy, max_depth=10, min_samples_leaf=1, min_samples_split=2, n_estimators=100, random_state=42; total time=   2.7s\n",
            "[CV] END criterion=entropy, max_depth=10, min_samples_leaf=1, min_samples_split=2, n_estimators=100, random_state=123; total time=   2.6s\n",
            "[CV] END criterion=entropy, max_depth=10, min_samples_leaf=1, min_samples_split=2, n_estimators=100, random_state=123; total time=   2.7s\n",
            "[CV] END criterion=entropy, max_depth=10, min_samples_leaf=1, min_samples_split=2, n_estimators=100, random_state=123; total time=   2.7s\n",
            "[CV] END criterion=entropy, max_depth=10, min_samples_leaf=1, min_samples_split=2, n_estimators=100, random_state=123; total time=   2.7s\n",
            "[CV] END criterion=entropy, max_depth=10, min_samples_leaf=1, min_samples_split=2, n_estimators=100, random_state=123; total time=   2.7s\n",
            "[CV] END criterion=gini, max_depth=30, min_samples_leaf=1, min_samples_split=2, n_estimators=300, random_state=123; total time=   9.3s\n",
            "[CV] END criterion=gini, max_depth=30, min_samples_leaf=1, min_samples_split=2, n_estimators=300, random_state=123; total time=   9.5s\n",
            "[CV] END criterion=entropy, max_depth=10, min_samples_leaf=1, min_samples_split=2, n_estimators=200, random_state=42; total time=   5.4s\n",
            "[CV] END criterion=entropy, max_depth=10, min_samples_leaf=1, min_samples_split=2, n_estimators=200, random_state=42; total time=   5.6s\n",
            "[CV] END criterion=entropy, max_depth=10, min_samples_leaf=1, min_samples_split=2, n_estimators=200, random_state=42; total time=   5.6s\n",
            "[CV] END criterion=entropy, max_depth=10, min_samples_leaf=1, min_samples_split=2, n_estimators=200, random_state=42; total time=   5.5s\n",
            "[CV] END criterion=entropy, max_depth=10, min_samples_leaf=1, min_samples_split=2, n_estimators=200, random_state=42; total time=   5.3s\n",
            "[CV] END criterion=entropy, max_depth=10, min_samples_leaf=1, min_samples_split=2, n_estimators=200, random_state=123; total time=   5.4s\n",
            "[CV] END criterion=entropy, max_depth=10, min_samples_leaf=1, min_samples_split=2, n_estimators=200, random_state=123; total time=   5.4s\n",
            "[CV] END criterion=entropy, max_depth=10, min_samples_leaf=1, min_samples_split=2, n_estimators=200, random_state=123; total time=   5.3s\n",
            "[CV] END criterion=entropy, max_depth=10, min_samples_leaf=1, min_samples_split=2, n_estimators=200, random_state=123; total time=   5.3s\n",
            "[CV] END criterion=entropy, max_depth=10, min_samples_leaf=1, min_samples_split=2, n_estimators=200, random_state=123; total time=   5.4s\n",
            "[CV] END criterion=entropy, max_depth=10, min_samples_leaf=1, min_samples_split=2, n_estimators=300, random_state=42; total time=   8.1s\n",
            "[CV] END criterion=entropy, max_depth=10, min_samples_leaf=1, min_samples_split=2, n_estimators=300, random_state=42; total time=   8.1s\n",
            "[CV] END criterion=entropy, max_depth=10, min_samples_leaf=1, min_samples_split=2, n_estimators=300, random_state=42; total time=   8.1s\n",
            "[CV] END criterion=entropy, max_depth=10, min_samples_leaf=1, min_samples_split=2, n_estimators=300, random_state=42; total time=   8.2s\n",
            "[CV] END criterion=entropy, max_depth=10, min_samples_leaf=1, min_samples_split=2, n_estimators=300, random_state=42; total time=   8.2s\n",
            "[CV] END criterion=entropy, max_depth=10, min_samples_leaf=1, min_samples_split=2, n_estimators=300, random_state=123; total time=   8.1s\n",
            "[CV] END criterion=entropy, max_depth=20, min_samples_leaf=1, min_samples_split=2, n_estimators=100, random_state=42; total time=   3.7s\n",
            "[CV] END criterion=entropy, max_depth=20, min_samples_leaf=1, min_samples_split=2, n_estimators=100, random_state=42; total time=   3.7s\n",
            "[CV] END criterion=entropy, max_depth=10, min_samples_leaf=1, min_samples_split=2, n_estimators=300, random_state=123; total time=   8.1s\n",
            "[CV] END criterion=entropy, max_depth=10, min_samples_leaf=1, min_samples_split=2, n_estimators=300, random_state=123; total time=   7.9s\n",
            "[CV] END criterion=entropy, max_depth=20, min_samples_leaf=1, min_samples_split=2, n_estimators=100, random_state=42; total time=   3.7s\n",
            "[CV] END criterion=entropy, max_depth=20, min_samples_leaf=1, min_samples_split=2, n_estimators=100, random_state=42; total time=   3.8s\n",
            "[CV] END criterion=entropy, max_depth=20, min_samples_leaf=1, min_samples_split=2, n_estimators=100, random_state=42; total time=   3.5s\n",
            "[CV] END criterion=entropy, max_depth=20, min_samples_leaf=1, min_samples_split=2, n_estimators=100, random_state=123; total time=   3.7s\n",
            "[CV] END criterion=entropy, max_depth=10, min_samples_leaf=1, min_samples_split=2, n_estimators=300, random_state=123; total time=   8.1s\n",
            "[CV] END criterion=entropy, max_depth=10, min_samples_leaf=1, min_samples_split=2, n_estimators=300, random_state=123; total time=   8.2s\n",
            "[CV] END criterion=entropy, max_depth=20, min_samples_leaf=1, min_samples_split=2, n_estimators=100, random_state=123; total time=   3.6s\n",
            "[CV] END criterion=entropy, max_depth=20, min_samples_leaf=1, min_samples_split=2, n_estimators=100, random_state=123; total time=   3.6s\n",
            "[CV] END criterion=entropy, max_depth=20, min_samples_leaf=1, min_samples_split=2, n_estimators=100, random_state=123; total time=   3.5s\n",
            "[CV] END criterion=entropy, max_depth=20, min_samples_leaf=1, min_samples_split=2, n_estimators=100, random_state=123; total time=   3.6s\n",
            "[CV] END criterion=entropy, max_depth=20, min_samples_leaf=1, min_samples_split=2, n_estimators=200, random_state=42; total time=   7.2s\n",
            "[CV] END criterion=entropy, max_depth=20, min_samples_leaf=1, min_samples_split=2, n_estimators=200, random_state=42; total time=   7.2s\n",
            "[CV] END criterion=entropy, max_depth=20, min_samples_leaf=1, min_samples_split=2, n_estimators=200, random_state=42; total time=   7.3s\n",
            "[CV] END criterion=entropy, max_depth=20, min_samples_leaf=1, min_samples_split=2, n_estimators=200, random_state=42; total time=   7.5s\n",
            "[CV] END criterion=entropy, max_depth=20, min_samples_leaf=1, min_samples_split=2, n_estimators=200, random_state=42; total time=   7.2s\n",
            "[CV] END criterion=entropy, max_depth=20, min_samples_leaf=1, min_samples_split=2, n_estimators=200, random_state=123; total time=   7.1s\n",
            "[CV] END criterion=entropy, max_depth=20, min_samples_leaf=1, min_samples_split=2, n_estimators=200, random_state=123; total time=   7.2s\n",
            "[CV] END criterion=entropy, max_depth=20, min_samples_leaf=1, min_samples_split=2, n_estimators=200, random_state=123; total time=   7.3s\n",
            "[CV] END criterion=entropy, max_depth=20, min_samples_leaf=1, min_samples_split=2, n_estimators=200, random_state=123; total time=   7.1s\n",
            "[CV] END criterion=entropy, max_depth=20, min_samples_leaf=1, min_samples_split=2, n_estimators=200, random_state=123; total time=   7.2s\n",
            "[CV] END criterion=entropy, max_depth=20, min_samples_leaf=1, min_samples_split=2, n_estimators=300, random_state=42; total time=  11.1s\n",
            "[CV] END criterion=entropy, max_depth=20, min_samples_leaf=1, min_samples_split=2, n_estimators=300, random_state=42; total time=  10.8s\n",
            "[CV] END criterion=entropy, max_depth=20, min_samples_leaf=1, min_samples_split=2, n_estimators=300, random_state=42; total time=  10.9s\n",
            "[CV] END criterion=entropy, max_depth=20, min_samples_leaf=1, min_samples_split=2, n_estimators=300, random_state=42; total time=  11.2s\n",
            "[CV] END criterion=entropy, max_depth=20, min_samples_leaf=1, min_samples_split=2, n_estimators=300, random_state=42; total time=  11.1s\n",
            "[CV] END criterion=entropy, max_depth=20, min_samples_leaf=1, min_samples_split=2, n_estimators=300, random_state=123; total time=  10.8s\n",
            "[CV] END criterion=entropy, max_depth=30, min_samples_leaf=1, min_samples_split=2, n_estimators=100, random_state=42; total time=   3.6s\n",
            "[CV] END criterion=entropy, max_depth=30, min_samples_leaf=1, min_samples_split=2, n_estimators=100, random_state=42; total time=   3.7s\n",
            "[CV] END criterion=entropy, max_depth=30, min_samples_leaf=1, min_samples_split=2, n_estimators=100, random_state=42; total time=   3.7s\n",
            "[CV] END criterion=entropy, max_depth=30, min_samples_leaf=1, min_samples_split=2, n_estimators=100, random_state=42; total time=   3.8s\n",
            "[CV] END criterion=entropy, max_depth=20, min_samples_leaf=1, min_samples_split=2, n_estimators=300, random_state=123; total time=  10.8s\n",
            "[CV] END criterion=entropy, max_depth=20, min_samples_leaf=1, min_samples_split=2, n_estimators=300, random_state=123; total time=  10.9s\n",
            "[CV] END criterion=entropy, max_depth=30, min_samples_leaf=1, min_samples_split=2, n_estimators=100, random_state=42; total time=   3.6s\n",
            "[CV] END criterion=entropy, max_depth=30, min_samples_leaf=1, min_samples_split=2, n_estimators=100, random_state=123; total time=   3.8s\n",
            "[CV] END criterion=entropy, max_depth=30, min_samples_leaf=1, min_samples_split=2, n_estimators=100, random_state=123; total time=   3.7s\n",
            "[CV] END criterion=entropy, max_depth=30, min_samples_leaf=1, min_samples_split=2, n_estimators=100, random_state=123; total time=   3.8s\n",
            "[CV] END criterion=entropy, max_depth=30, min_samples_leaf=1, min_samples_split=2, n_estimators=100, random_state=123; total time=   3.7s\n",
            "[CV] END criterion=entropy, max_depth=30, min_samples_leaf=1, min_samples_split=2, n_estimators=100, random_state=123; total time=   3.6s\n",
            "[CV] END criterion=entropy, max_depth=20, min_samples_leaf=1, min_samples_split=2, n_estimators=300, random_state=123; total time=  10.8s\n",
            "[CV] END criterion=entropy, max_depth=20, min_samples_leaf=1, min_samples_split=2, n_estimators=300, random_state=123; total time=  11.0s\n",
            "[CV] END criterion=entropy, max_depth=30, min_samples_leaf=1, min_samples_split=2, n_estimators=200, random_state=42; total time=   7.3s\n",
            "[CV] END criterion=entropy, max_depth=30, min_samples_leaf=1, min_samples_split=2, n_estimators=200, random_state=42; total time=   7.5s\n",
            "[CV] END criterion=entropy, max_depth=30, min_samples_leaf=1, min_samples_split=2, n_estimators=200, random_state=42; total time=   7.7s\n",
            "[CV] END criterion=entropy, max_depth=30, min_samples_leaf=1, min_samples_split=2, n_estimators=200, random_state=42; total time=   7.4s\n",
            "[CV] END criterion=entropy, max_depth=30, min_samples_leaf=1, min_samples_split=2, n_estimators=200, random_state=42; total time=   7.5s\n",
            "[CV] END criterion=entropy, max_depth=30, min_samples_leaf=1, min_samples_split=2, n_estimators=200, random_state=123; total time=   7.5s\n",
            "[CV] END criterion=entropy, max_depth=30, min_samples_leaf=1, min_samples_split=2, n_estimators=200, random_state=123; total time=   7.4s\n",
            "[CV] END criterion=entropy, max_depth=30, min_samples_leaf=1, min_samples_split=2, n_estimators=200, random_state=123; total time=   7.5s\n",
            "[CV] END criterion=entropy, max_depth=30, min_samples_leaf=1, min_samples_split=2, n_estimators=200, random_state=123; total time=   7.5s\n",
            "[CV] END criterion=entropy, max_depth=30, min_samples_leaf=1, min_samples_split=2, n_estimators=200, random_state=123; total time=   7.4s\n",
            "[CV] END criterion=entropy, max_depth=30, min_samples_leaf=1, min_samples_split=2, n_estimators=300, random_state=42; total time=  11.3s\n",
            "[CV] END criterion=entropy, max_depth=30, min_samples_leaf=1, min_samples_split=2, n_estimators=300, random_state=42; total time=  11.6s\n",
            "[CV] END criterion=entropy, max_depth=30, min_samples_leaf=1, min_samples_split=2, n_estimators=300, random_state=42; total time=  11.4s\n",
            "[CV] END criterion=entropy, max_depth=30, min_samples_leaf=1, min_samples_split=2, n_estimators=300, random_state=42; total time=  11.3s\n",
            "[CV] END criterion=entropy, max_depth=30, min_samples_leaf=1, min_samples_split=2, n_estimators=300, random_state=42; total time=  11.5s\n",
            "[CV] END criterion=entropy, max_depth=30, min_samples_leaf=1, min_samples_split=2, n_estimators=300, random_state=123; total time=  11.2s\n",
            "[CV] END criterion=entropy, max_depth=30, min_samples_leaf=1, min_samples_split=2, n_estimators=300, random_state=123; total time=  10.3s\n",
            "[CV] END criterion=entropy, max_depth=30, min_samples_leaf=1, min_samples_split=2, n_estimators=300, random_state=123; total time=  10.4s\n",
            "[CV] END criterion=entropy, max_depth=30, min_samples_leaf=1, min_samples_split=2, n_estimators=300, random_state=123; total time=   9.3s\n",
            "[CV] END criterion=entropy, max_depth=30, min_samples_leaf=1, min_samples_split=2, n_estimators=300, random_state=123; total time=   9.5s\n",
            "Best parameters: {'criterion': 'entropy', 'max_depth': 30, 'min_samples_leaf': 1, 'min_samples_split': 2, 'n_estimators': 200, 'random_state': 123}\n",
            "accuracy: 88.32%\n",
            "              precision    recall  f1-score   support\n",
            "\n",
            "          -1       0.77      0.18      0.29       882\n",
            "           1       0.89      0.99      0.94      5718\n",
            "\n",
            "    accuracy                           0.88      6600\n",
            "   macro avg       0.83      0.59      0.61      6600\n",
            "weighted avg       0.87      0.88      0.85      6600\n",
            "\n",
            "AUC Score: 0.8322\n"
          ]
        }
      ],
      "source": [
        "from sklearn.model_selection import GridSearchCV\n",
        "from sklearn.metrics import accuracy_score, roc_auc_score\n",
        "\n",
        "# 하이퍼파라미터 그리드 정의\n",
        "param_grid = {\n",
        "    'n_estimators': [100,200,300],  # 트리 개수\n",
        "    'max_depth': [10,20,30],  # 트리의 최대 깊이\n",
        "    'min_samples_split': [2],  # 분할을 위한 최소 샘플 수\n",
        "    'min_samples_leaf': [1],    # 리프 노드에 대한 최소 샘플 수\n",
        "    'random_state': [42, 123], \n",
        "    'criterion': ['gini', 'entropy']\n",
        "}\n",
        "\n",
        "# GridSearchCV로 하이퍼파라미터 튜닝 (교차 검증 포함)\n",
        "grid_search = GridSearchCV(estimator=clf, param_grid=param_grid, cv=5, n_jobs=-1, verbose=2)\n",
        "\n",
        "# 훈련 데이터로 그리드 서치 수행\n",
        "grid_search.fit(X_train, y_train)\n",
        "\n",
        "# 최적의 하이퍼파라미터 출력\n",
        "print(f\"Best parameters: {grid_search.best_params_}\")\n",
        "\n",
        "# 최적의 모델로 예측 수행\n",
        "best_model = grid_search.best_estimator_\n",
        "y_pred_best = best_model.predict(X_test)\n",
        "\n",
        "# Evaluate the Model\n",
        "accuracy_best = accuracy_score(y_test, y_pred_best)\n",
        "print(f\"accuracy: {accuracy_best * 100:.2f}%\")\n",
        "report_best = classification_report(y_test, y_pred_best)\n",
        "print(report_best)\n",
        "\n",
        "# 예측 확률값 (양성 클래스에 대한 확률)\n",
        "y_pred_proba_best = best_model.predict_proba(X_test)[:, 1]\n",
        "auc_score = roc_auc_score(y_test, y_pred_proba_best)\n",
        "print(f\"AUC Score: {auc_score:.4f}\")"
      ]
    },
    {
      "cell_type": "code",
      "execution_count": 32,
      "metadata": {},
      "outputs": [
        {
          "name": "stderr",
          "output_type": "stream",
          "text": [
            "/var/folders/3q/h61ghnxn5bvgvc2r08ghgwkc0000gn/T/ipykernel_12564/1337943354.py:10: UserWarning: color is redundantly defined by the 'color' keyword argument and the fmt string \"k--\" (-> color='k'). The keyword argument will take precedence.\n",
            "  plt.plot([0, 1], [0, 1], 'k--', label=\"Random Classifier\", color='gray')\n"
          ]
        },
        {
          "data": {
            "image/png": "[encoded data removed]",
            "text/plain": [
              "<Figure size 800x600 with 1 Axes>"
            ]
          },
          "metadata": {},
          "output_type": "display_data"
        }
      ],
      "source": [
        "from sklearn.metrics import roc_curve\n",
        "import matplotlib.pyplot as plt\n",
        "\n",
        "# AUC ROC Curve 계산\n",
        "fpr, tpr, thresholds = roc_curve(y_test, y_pred_proba_best)\n",
        "\n",
        "# AUC ROC Curve 시각화\n",
        "plt.figure(figsize=(8, 6))\n",
        "plt.plot(fpr, tpr, label=f\"AUC = {auc_score:.4f}\", color='blue')\n",
        "plt.plot([0, 1], [0, 1], 'k--', label=\"Random Classifier\", color='gray')\n",
        "plt.xlabel(\"False Positive Rate\")\n",
        "plt.ylabel(\"True Positive Rate\")\n",
        "plt.title(\"ROC Curve\")\n",
        "plt.legend(loc=\"lower right\")\n",
        "plt.grid()\n",
        "plt.show()"
      ]
    },
    {
      "cell_type": "code",
      "execution_count": 33,
      "metadata": {},
      "outputs": [
        {
          "name": "stdout",
          "output_type": "stream",
          "text": [
            "[0.83272727 0.8225     0.81181818 0.85204545 0.82022727]\n",
            "0.8278636363636362\n"
          ]
        }
      ],
      "source": [
        "from sklearn.model_selection import cross_val_score\n",
        "scores = cross_val_score(best_model, X, y, cv=5)\n",
        "print(scores)\n",
        "print(sum(scores)/len(scores))"
      ]
    }
  ],
  "metadata": {
    "colab": {
      "provenance": []
    },
    "gpuClass": "standard",
    "kernelspec": {
      "display_name": "base",
      "language": "python",
      "name": "python3"
    },
    "language_info": {
      "codemirror_mode": {
        "name": "ipython",
        "version": 3
      },
      "file_extension": ".py",
      "mimetype": "text/x-python",
      "name": "python",
      "nbconvert_exporter": "python",
      "pygments_lexer": "ipython3",
      "version": "3.12.4"
    }
  },
  "nbformat": 4,
  "nbformat_minor": 0
}
